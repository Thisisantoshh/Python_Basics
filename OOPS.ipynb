{
 "cells": [
  {
   "metadata": {
    "ExecuteTime": {
     "end_time": "2025-08-26T05:06:44.379380Z",
     "start_time": "2025-08-26T05:06:44.376834Z"
    }
   },
   "cell_type": "code",
   "source": [
    "class Car:\n",
    "    pass\n",
    "audi=Car()\n",
    "bmw=Car()\n",
    "print(type(audi))\n",
    "print(audi)"
   ],
   "id": "25f51bc20048c6c1",
   "outputs": [
    {
     "name": "stdout",
     "output_type": "stream",
     "text": [
      "<class '__main__.Car'>\n",
      "<__main__.Car object at 0x107687610>\n"
     ]
    }
   ],
   "execution_count": 3
  },
  {
   "cell_type": "code",
   "id": "initial_id",
   "metadata": {
    "collapsed": true,
    "ExecuteTime": {
     "end_time": "2025-08-26T05:07:18.746196Z",
     "start_time": "2025-08-26T05:07:18.743458Z"
    }
   },
   "source": [
    "audi.windows=4\n",
    "print(audi.windows)"
   ],
   "outputs": [
    {
     "name": "stdout",
     "output_type": "stream",
     "text": [
      "4\n"
     ]
    }
   ],
   "execution_count": 4
  },
  {
   "metadata": {
    "ExecuteTime": {
     "end_time": "2025-08-26T05:08:14.599491Z",
     "start_time": "2025-08-26T05:08:14.597393Z"
    }
   },
   "cell_type": "code",
   "source": [
    "tata=Car()\n",
    "tata.doors=4\n",
    "print(tata.doors)"
   ],
   "id": "28e69dc96cc9fd20",
   "outputs": [
    {
     "name": "stdout",
     "output_type": "stream",
     "text": [
      "4\n"
     ]
    }
   ],
   "execution_count": 5
  },
  {
   "metadata": {
    "ExecuteTime": {
     "end_time": "2025-08-26T05:09:15.278535Z",
     "start_time": "2025-08-26T05:09:15.269315Z"
    }
   },
   "cell_type": "code",
   "source": "dir(tata)",
   "id": "ed2e2172f33a2665",
   "outputs": [
    {
     "data": {
      "text/plain": [
       "['__class__',\n",
       " '__delattr__',\n",
       " '__dict__',\n",
       " '__dir__',\n",
       " '__doc__',\n",
       " '__eq__',\n",
       " '__format__',\n",
       " '__ge__',\n",
       " '__getattribute__',\n",
       " '__gt__',\n",
       " '__hash__',\n",
       " '__init__',\n",
       " '__init_subclass__',\n",
       " '__le__',\n",
       " '__lt__',\n",
       " '__module__',\n",
       " '__ne__',\n",
       " '__new__',\n",
       " '__reduce__',\n",
       " '__reduce_ex__',\n",
       " '__repr__',\n",
       " '__setattr__',\n",
       " '__sizeof__',\n",
       " '__str__',\n",
       " '__subclasshook__',\n",
       " '__weakref__',\n",
       " 'doors']"
      ]
     },
     "execution_count": 6,
     "metadata": {},
     "output_type": "execute_result"
    }
   ],
   "execution_count": 6
  },
  {
   "metadata": {
    "ExecuteTime": {
     "end_time": "2025-08-26T05:16:11.377994Z",
     "start_time": "2025-08-26T05:16:11.372121Z"
    }
   },
   "cell_type": "code",
   "source": [
    "class Dog:\n",
    "    def __init__(self,name,age):\n",
    "        self.name=name\n",
    "        self.age=age\n",
    "dog1=Dog(\"tommy\",2)\n",
    "dog2=Dog(\"snoopy\",6)\n",
    "print(dog1)\n",
    "print(dog1.name)\n",
    "print(dog1.age)\n",
    "print(dog2.name)\n",
    "print(dog2.age)\n",
    "\n"
   ],
   "id": "42e35655c68cf6c7",
   "outputs": [
    {
     "name": "stdout",
     "output_type": "stream",
     "text": [
      "<__main__.Dog object at 0x107686950>\n",
      "tommy\n",
      "2\n",
      "snoopy\n",
      "6\n"
     ]
    }
   ],
   "execution_count": 9
  },
  {
   "metadata": {
    "ExecuteTime": {
     "end_time": "2025-08-26T05:20:31.798237Z",
     "start_time": "2025-08-26T05:20:31.794656Z"
    }
   },
   "cell_type": "code",
   "source": [
    "class Dog:\n",
    "    def __init__(self,name,age):\n",
    "        self.name=name\n",
    "        self.age=age\n",
    "    def bark(self):\n",
    "        print(f\"{self.name} says boww\")\n",
    "dog1=Dog(\"buddy\",2)\n",
    "dog1.bark()\n"
   ],
   "id": "78e4378075a5f207",
   "outputs": [
    {
     "name": "stdout",
     "output_type": "stream",
     "text": [
      "buddy says boww\n"
     ]
    }
   ],
   "execution_count": 14
  },
  {
   "metadata": {
    "ExecuteTime": {
     "end_time": "2025-08-26T05:47:23.668934Z",
     "start_time": "2025-08-26T05:47:23.664465Z"
    }
   },
   "cell_type": "code",
   "source": [
    "class BankAccount:\n",
    "    def __init__(self,owner,balance):\n",
    "        self.owner=owner\n",
    "        self.balance=balance\n",
    "    def deposit(self,amount):\n",
    "        self.balance+=amount\n",
    "        print(f\"amount deposited:{amount}\\n avaialble balance:{self.balance}\")\n",
    "    def withdrawn(self,amount):\n",
    "        if amount>self.balance:\n",
    "            print(\"Insufficient balance\")\n",
    "        else:\n",
    "            self.balance-=amount\n",
    "        print(f\"amount withdrawn:{amount}\\n avaible balance:{self.balance}\")\n",
    "    def getbalance(self):\n",
    "        print(f\"{self.owner} available balance is {self.balance}\")\n",
    "\n"
   ],
   "id": "43fecc8b5ba09dc",
   "outputs": [],
   "execution_count": 24
  },
  {
   "metadata": {
    "ExecuteTime": {
     "end_time": "2025-08-26T05:50:51.360232Z",
     "start_time": "2025-08-26T05:50:51.357311Z"
    }
   },
   "cell_type": "code",
   "source": [
    "account=BankAccount(\"sai\",1000)\n",
    "account.deposit(100)"
   ],
   "id": "cd96454cf83e9994",
   "outputs": [
    {
     "name": "stdout",
     "output_type": "stream",
     "text": [
      "amount deposited:100\n",
      " avaialble balance:1100\n"
     ]
    }
   ],
   "execution_count": 30
  },
  {
   "metadata": {
    "ExecuteTime": {
     "end_time": "2025-08-26T05:51:09.551956Z",
     "start_time": "2025-08-26T05:51:09.547238Z"
    }
   },
   "cell_type": "code",
   "source": "account.withdrawn(500)",
   "id": "8785cd20578b190f",
   "outputs": [
    {
     "name": "stdout",
     "output_type": "stream",
     "text": [
      "amount withdrawn:500\n",
      " avaible balance:600\n"
     ]
    }
   ],
   "execution_count": 31
  },
  {
   "metadata": {
    "ExecuteTime": {
     "end_time": "2025-08-26T05:51:35.029957Z",
     "start_time": "2025-08-26T05:51:35.026347Z"
    }
   },
   "cell_type": "code",
   "source": "account.getbalance()",
   "id": "651825bd4cd1ecc1",
   "outputs": [
    {
     "name": "stdout",
     "output_type": "stream",
     "text": [
      "sai available balance i 600\n"
     ]
    }
   ],
   "execution_count": 33
  },
  {
   "metadata": {
    "ExecuteTime": {
     "end_time": "2025-08-26T08:59:29.263432Z",
     "start_time": "2025-08-26T08:59:29.259328Z"
    }
   },
   "cell_type": "code",
   "source": [
    "class Car:\n",
    "    def __init__(self,windows,engine_type,doors):\n",
    "        self.windows=windows\n",
    "        self.engine_type=engine_type\n",
    "        self.doors=doors\n",
    "    def drive(self):\n",
    "        print(f\"The person will drive the {self.engine_type} car\")\n"
   ],
   "id": "875f6694e3838cdf",
   "outputs": [],
   "execution_count": 5
  },
  {
   "metadata": {
    "ExecuteTime": {
     "end_time": "2025-08-26T08:59:30.526774Z",
     "start_time": "2025-08-26T08:59:30.524671Z"
    }
   },
   "cell_type": "code",
   "source": [
    "car1=Car(4,'petrol',5)\n",
    "car1.drive()"
   ],
   "id": "e8669f1470432e7c",
   "outputs": [
    {
     "name": "stdout",
     "output_type": "stream",
     "text": [
      "The person will drive the petrol car\n"
     ]
    }
   ],
   "execution_count": 6
  },
  {
   "metadata": {
    "ExecuteTime": {
     "end_time": "2025-08-26T09:08:41.832845Z",
     "start_time": "2025-08-26T09:08:41.829767Z"
    }
   },
   "cell_type": "code",
   "source": [
    "class Tesla(Car):\n",
    "    def __init__(self,windows,engine_type,doors,is_selfdriving):\n",
    "       super().__init__(windows, engine_type, doors)\n",
    "       self.is_selfdriving=is_selfdriving\n",
    "    def selfdriving(self):\n",
    "        print(f\"Tesla supports self driving {self.is_selfdriving}\")\n",
    "\n",
    "\n",
    "\n",
    "\n"
   ],
   "id": "18850cbdcd24b595",
   "outputs": [],
   "execution_count": 7
  },
  {
   "metadata": {
    "ExecuteTime": {
     "end_time": "2025-08-26T09:09:08.483940Z",
     "start_time": "2025-08-26T09:09:08.481015Z"
    }
   },
   "cell_type": "code",
   "source": [
    "tesla=Tesla(4,'petrol',5,True)\n",
    "tesla.selfdriving()"
   ],
   "id": "28fabdd731b20376",
   "outputs": [
    {
     "name": "stdout",
     "output_type": "stream",
     "text": [
      "Tesla supports self driving True\n"
     ]
    }
   ],
   "execution_count": 8
  },
  {
   "metadata": {
    "ExecuteTime": {
     "end_time": "2025-08-26T09:11:35.641071Z",
     "start_time": "2025-08-26T09:11:35.639053Z"
    }
   },
   "cell_type": "code",
   "source": "tesla.drive()\n",
   "id": "fd83a2292da60ba4",
   "outputs": [
    {
     "name": "stdout",
     "output_type": "stream",
     "text": [
      "The person will drive the petrol car\n"
     ]
    }
   ],
   "execution_count": 14
  },
  {
   "metadata": {
    "ExecuteTime": {
     "end_time": "2025-08-26T09:21:39.434906Z",
     "start_time": "2025-08-26T09:21:39.429192Z"
    }
   },
   "cell_type": "code",
   "source": [
    "#base class\n",
    "class Animal:\n",
    "    def __init__(self,name):\n",
    "        self.name = name\n",
    "    def speak(self):\n",
    "        print(\"subclass must operate this method\")\n",
    "#another base class\n",
    "class Pet:\n",
    "    def __init__(self,owner):\n",
    "        self.owner=owner\n",
    "\n",
    "class Dog(Animal,Pet):\n",
    "    def __init__(self,name,owner):\n",
    "        Animal.__init__(self,name)\n",
    "        Pet.__init__(self,owner)\n",
    "    def speak(self):\n",
    "        return f\"{self.name} says boww\"\n",
    "dog=Dog(\"tommy\",\"tharun\")\n",
    "print(dog.speak())\n",
    "print(f\"The owner is {dog.owner} \")\n",
    "\n",
    "\n"
   ],
   "id": "233330ac5e499495",
   "outputs": [
    {
     "name": "stdout",
     "output_type": "stream",
     "text": [
      "tommy says boww\n",
      "The owner is tharun \n"
     ]
    }
   ],
   "execution_count": 18
  },
  {
   "metadata": {
    "ExecuteTime": {
     "end_time": "2025-08-26T09:32:07.831152Z",
     "start_time": "2025-08-26T09:32:07.825394Z"
    }
   },
   "cell_type": "code",
   "source": [
    "class Alpha:\n",
    "    def __init__(self,name):\n",
    "        self.name=name\n",
    "    def speak(self):\n",
    "        return f\"{self.name} speaks more\"\n",
    "class Beta:\n",
    "    def __init__(self,peru):\n",
    "        self.peru=peru\n",
    "    def matladatam(self):\n",
    "        return f\"{self.peru} eeyana gaaru ekkuva matladutharu\"\n",
    "class AIML(Alpha,Beta):\n",
    "    def __init__(self,name,peru):\n",
    "        Alpha.__init__(self,name)\n",
    "        Beta.__init__(self,peru)\n",
    "    def sodhi(self):\n",
    "        return f\"ee bandhe {self.peru} jyaadha baath karega\"\n",
    "\n",
    "laddu=AIML(\"santosh\",\"tharun\")\n",
    "laddu.matladatam()"
   ],
   "id": "41b9122f94cd24b6",
   "outputs": [
    {
     "data": {
      "text/plain": [
       "'tharun eeyana gaaru ekkuva matladutharu'"
      ]
     },
     "execution_count": 24,
     "metadata": {},
     "output_type": "execute_result"
    }
   ],
   "execution_count": 24
  },
  {
   "metadata": {
    "ExecuteTime": {
     "end_time": "2025-08-26T09:54:40.206774Z",
     "start_time": "2025-08-26T09:54:40.204804Z"
    }
   },
   "cell_type": "code",
   "source": [
    "\n",
    "array=[[1,2,3],\n",
    "          [6,7,8],\n",
    "          [9,10,11]]\n",
    "summ=0\n",
    "for i in array:\n",
    "    for j in i:\n",
    "        summ+=j\n",
    "print(summ)\n"
   ],
   "id": "47ad5b3d1eb6bba1",
   "outputs": [
    {
     "name": "stdout",
     "output_type": "stream",
     "text": [
      "57\n"
     ]
    }
   ],
   "execution_count": 50
  },
  {
   "metadata": {
    "ExecuteTime": {
     "end_time": "2025-08-26T10:07:45.931747Z",
     "start_time": "2025-08-26T10:07:45.928480Z"
    }
   },
   "cell_type": "code",
   "source": [
    "for i in range(len(array)):\n",
    "    sum=0\n",
    "    for j in range(len(array)):\n",
    "        sum+=array[j][i]\n",
    "    print(sum)\n",
    "\n"
   ],
   "id": "29181d632ed5f56f",
   "outputs": [
    {
     "name": "stdout",
     "output_type": "stream",
     "text": [
      "16\n",
      "19\n",
      "22\n"
     ]
    }
   ],
   "execution_count": 66
  },
  {
   "metadata": {
    "ExecuteTime": {
     "end_time": "2025-08-26T10:12:44.199402Z",
     "start_time": "2025-08-26T10:12:44.194857Z"
    }
   },
   "cell_type": "code",
   "source": [
    " sum=0\n",
    "for i in range(len(array)):\n",
    "\n",
    "\n",
    "    for j in range(len(array)):\n",
    "        if(i==j) or (i+j==len(array)-1):\n",
    "            sum+=array[j][i]\n",
    "print(sum)\n",
    "\n"
   ],
   "id": "e532a8e42f5a2d29",
   "outputs": [
    {
     "name": "stdout",
     "output_type": "stream",
     "text": [
      "31\n"
     ]
    }
   ],
   "execution_count": 68
  },
  {
   "metadata": {
    "ExecuteTime": {
     "end_time": "2025-08-28T06:42:14.624530Z",
     "start_time": "2025-08-28T06:42:14.621422Z"
    }
   },
   "cell_type": "code",
   "source": [
    "class A:\n",
    "    def __init__(self,name,age):\n",
    "        self.name=name\n",
    "        self.age=age\n",
    "    def getname(self):\n",
    "        return f'his name is {self.name}'\n",
    "a=A(\"santosh\",21)\n",
    "print(a.getname())"
   ],
   "id": "1dd86423d47292da",
   "outputs": [
    {
     "name": "stdout",
     "output_type": "stream",
     "text": [
      "his name is santosh\n"
     ]
    }
   ],
   "execution_count": 1
  },
  {
   "metadata": {},
   "cell_type": "code",
   "outputs": [],
   "execution_count": null,
   "source": [
    "class A:\n",
    "    def __init__(self,name,age):\n",
    "        self.name=name\n",
    "        self.age=age\n",
    "    def getname(self):\n",
    "        return f'his name is {self.name}'\n",
    "a=A(\"santosh\",21)\n",
    "class B:\n",
    "    def __init__(self,Branch,Rollnumber):\n",
    "        self.Branch=Branch\n",
    "        self.Rollnumber=Rollnumber\n",
    "    def getbranchdet(selfs):\n",
    "        return f\"he is from {self.branch} and roll number is {self.rollnumber}\"\n",
    "class C(A,B):\n",
    "    def __init__(self,name,age,Branch,Rollnumber):\n",
    "        A.__init__(self,name,age)\n",
    "        B.__init__(self,Branch,Rollnumber)\n",
    "    def det(self):\n",
    "        return f'he is {self.name}'\n",
    "D=C(\"santosh\",21,\"Branch\",\"Rollnumber\")\n",
    "D.det()\n",
    "\n"
   ],
   "id": "1c6a51d1acd2b469"
  },
  {
   "metadata": {
    "ExecuteTime": {
     "end_time": "2025-08-28T13:55:21.000594Z",
     "start_time": "2025-08-28T13:55:20.996615Z"
    }
   },
   "cell_type": "code",
   "source": [
    "#parent\n",
    "class Mahesh:\n",
    "    def __init__(self,Movie,Heroine):\n",
    "        self.Movie=Movie\n",
    "        self.Heroine=Heroine\n",
    "    def getmovie(self):\n",
    "        return self.Movie\n",
    "class Prabhas:\n",
    "    def __init__(self,cinema,director):\n",
    "        self.cinema=cinema\n",
    "        self.director=director\n",
    "    def getcinema(self):\n",
    "        return self.cinema\n",
    "#derived\n",
    "class tfi(Mahesh,Prabhas):\n",
    "    def __init__(self,Movie,Heroine,cinema,director):\n",
    "        Mahesh.__init__(self,Movie,Heroine)\n",
    "        Prabhas.__init__(self,cinema,director)\n",
    "banisa=tfi(\"pokiri\",\"iliyana\",\"bahubali\",\"rajamouli\")\n",
    "print(banisa.getcinema())\n",
    "\n"
   ],
   "id": "596995b231dfdc36",
   "outputs": [
    {
     "name": "stdout",
     "output_type": "stream",
     "text": [
      "bahubali\n"
     ]
    }
   ],
   "execution_count": 3
  },
  {
   "metadata": {
    "ExecuteTime": {
     "end_time": "2025-08-28T14:01:48.693791Z",
     "start_time": "2025-08-28T14:01:48.688412Z"
    }
   },
   "cell_type": "code",
   "source": [
    "#parent\n",
    "class Mahesh:\n",
    "    def __init__(self,Movie,Heroine):\n",
    "        self.Movie=Movie\n",
    "        self.Heroine=Heroine\n",
    "    def getmovie(self):\n",
    "        return self.Movie\n",
    "class Prabhas(Mahesh):\n",
    "    def __init__(self,Movie,Heroine,cinema,director):\n",
    "        super().__init__(Movie,Heroine)\n",
    "        self.cinema=cinema\n",
    "        self.director=director\n",
    "    def getcinema(self):\n",
    "        return self.cinema\n",
    "kattubanisa=Prabhas(\"Athadu\",\"Trisha\",\"EK  niranjan\",\"Puri jagannath\")\n",
    "print(kattubanisa.getcinema())"
   ],
   "id": "6c9f7d265b0c1280",
   "outputs": [
    {
     "name": "stdout",
     "output_type": "stream",
     "text": [
      "EK  niranjan\n"
     ]
    }
   ],
   "execution_count": 6
  },
  {
   "metadata": {
    "ExecuteTime": {
     "end_time": "2025-08-28T15:04:42.282139Z",
     "start_time": "2025-08-28T15:04:42.277664Z"
    }
   },
   "cell_type": "code",
   "source": [
    "class Shape:\n",
    "    def area(self):\n",
    "        return \"The area of the shape\"\n",
    "class Rectangle(Shape):\n",
    "    def __init__(self,width,height):\n",
    "        self.width=width\n",
    "        self.height=height\n",
    "    def area(self):\n",
    "        return f\"The area of the rectangle is {self.width * self.height}\"\n",
    "class Circle(Shape):\n",
    "    def __init__(self,radius):\n",
    "        self.radius=radius\n",
    "    def area(self):\n",
    "        return f\"The area of the circle is {3.14 * self.radius*self.radius}\"\n",
    "print(Circle(2).area())\n",
    "print(Rectangle(2,2).area())"
   ],
   "id": "bf6cecf102d69d28",
   "outputs": [
    {
     "name": "stdout",
     "output_type": "stream",
     "text": [
      "The area of the circle is 12.56\n",
      "The area of the rectangle is 4\n"
     ]
    }
   ],
   "execution_count": 8
  },
  {
   "metadata": {
    "ExecuteTime": {
     "end_time": "2025-08-28T15:17:47.976794Z",
     "start_time": "2025-08-28T15:17:47.971515Z"
    }
   },
   "cell_type": "code",
   "source": [
    "from abc import ABC,abstractmethod\n",
    "class Vehicle(ABC):\n",
    "    @abstractmethod\n",
    "    def start_engine(self):\n",
    "        pass\n",
    "class Car(Vehicle):\n",
    "    def start_engine(self):\n",
    "        return \"Car engine started\"\n",
    "class Motorcycle(Vehicle):\n",
    "    def start_engine(self):\n",
    "        return \"Motorcycle engine started\"\n",
    "\n",
    "def engine_started(vehicle):\n",
    "    return f\"{vehicle.start_engine()}\"\n",
    "\n",
    "car=Car()\n",
    "motorcycle=Motorcycle()\n",
    "print(engine_started(car))\n",
    "print(engine_started(motorcycle))\n",
    "print(Car().sengine)\n"
   ],
   "id": "77c85112710d612b",
   "outputs": [
    {
     "name": "stdout",
     "output_type": "stream",
     "text": [
      "Car engine started\n",
      "Motorcycle engine started\n",
      "Car engine started\n"
     ]
    }
   ],
   "execution_count": 19
  },
  {
   "metadata": {},
   "cell_type": "code",
   "outputs": [],
   "execution_count": null,
   "source": "",
   "id": "c4da7a7f7c5d9b1e"
  },
  {
   "metadata": {},
   "cell_type": "markdown",
   "source": "encapsulation\n",
   "id": "35e418c8748e7bab"
  },
  {
   "metadata": {
    "ExecuteTime": {
     "end_time": "2025-08-28T17:35:48.174350Z",
     "start_time": "2025-08-28T17:35:48.172304Z"
    }
   },
   "cell_type": "code",
   "source": [
    "class Person:\n",
    "    def __init__(self,name,age,gender):\n",
    "        self.__name=name\n",
    "        self.__age=age\n",
    "        self.gender=gender\n",
    "person=Person(\"John\",21,\"Male\")\n",
    "print(person.gender)\n"
   ],
   "id": "a000d9ef55292369",
   "outputs": [
    {
     "name": "stdout",
     "output_type": "stream",
     "text": [
      "Male\n"
     ]
    }
   ],
   "execution_count": 21
  },
  {
   "metadata": {
    "ExecuteTime": {
     "end_time": "2025-08-28T17:40:25.048428Z",
     "start_time": "2025-08-28T17:40:25.044506Z"
    }
   },
   "cell_type": "code",
   "source": [
    "\n",
    "\n",
    "class Person:\n",
    "    def __init__(self, name, age, gender):\n",
    "        self._name = name\n",
    "        self._age = age\n",
    "        self.gender = gender\n",
    "\n",
    "class Employee(Person):\n",
    "    def __init__(self, name, age, gender):\n",
    "        super().__init__(name,age,gender)\n",
    "employee = Employee(\"John\",21,\"Male\")\n",
    "print(employee._name)\n"
   ],
   "id": "e5551243e157345a",
   "outputs": [
    {
     "name": "stdout",
     "output_type": "stream",
     "text": [
      "John\n"
     ]
    }
   ],
   "execution_count": 25
  },
  {
   "metadata": {
    "ExecuteTime": {
     "end_time": "2025-08-28T17:44:01.001342Z",
     "start_time": "2025-08-28T17:44:00.997706Z"
    }
   },
   "cell_type": "code",
   "source": [
    "class Person:\n",
    "    def __init__(self, name, age, gender):\n",
    "        self.__name = name\n",
    "        self.__age = age\n",
    "        self.gender = gender\n",
    "\n",
    "    def get_name(self):\n",
    "        return self.__name\n",
    "    def get_age(self):\n",
    "        return self.__age\n",
    "    def set_name(self,name):\n",
    "        self.__name=name\n",
    "    def set_age(self,age):\n",
    "        self.__age=age\n",
    "\n"
   ],
   "id": "9e7cf5167f3e9405",
   "outputs": [],
   "execution_count": 35
  },
  {
   "metadata": {
    "ExecuteTime": {
     "end_time": "2025-08-28T17:44:07.157916Z",
     "start_time": "2025-08-28T17:44:07.155960Z"
    }
   },
   "cell_type": "code",
   "source": [
    "person = Person(\"John\",21,\"Male\")\n",
    "print(person.get_name())"
   ],
   "id": "8f827c412eef7a9e",
   "outputs": [
    {
     "name": "stdout",
     "output_type": "stream",
     "text": [
      "John\n"
     ]
    }
   ],
   "execution_count": 37
  },
  {
   "metadata": {},
   "cell_type": "code",
   "outputs": [],
   "execution_count": null,
   "source": "",
   "id": "8ae08fe16f457f4"
  }
 ],
 "metadata": {
  "kernelspec": {
   "display_name": "Python 3",
   "language": "python",
   "name": "python3"
  },
  "language_info": {
   "codemirror_mode": {
    "name": "ipython",
    "version": 2
   },
   "file_extension": ".py",
   "mimetype": "text/x-python",
   "name": "python",
   "nbconvert_exporter": "python",
   "pygments_lexer": "ipython2",
   "version": "2.7.6"
  }
 },
 "nbformat": 4,
 "nbformat_minor": 5
}
